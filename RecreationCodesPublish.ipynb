{
 "cells": [
  {
   "cell_type": "code",
   "execution_count": 2,
   "metadata": {},
   "outputs": [],
   "source": [
    "# Global normalisation based on calculated 2.5% and 97.5% percentile values calculated in Matlab\n",
    "import arcpy\n",
    "for x in range(1,5):\n",
    "   if x == 0:\n",
    "        Infile = \"InVestRecreationClipped.tif\"\n",
    "        OutfileNorm = r\"D:\\Data\\Dropbox\\Lactuca\\Temp\\InVestRecreationNormalised.tif\"\n",
    "        OutfileZeros = r\"D:\\Data\\Dropbox\\Lactuca\\Temp\\InVestRecreationZeros.tif\"\n",
    "        ValueMin = 0\n",
    "        ValueMax = 11\n",
    "   elif x == 1:\n",
    "        Infile = \"AriesWithGDPPerHead.tif\"\n",
    "        OutfileNorm = r\"D:\\Data\\Dropbox\\Lactuca\\Temp\\AriesWithGDPNormalised.tif\"\n",
    "        OutfileZeros = r\"D:\\Data\\Dropbox\\Lactuca\\Temp\\AriesWithGDPZeros.tif\"\n",
    "        ValueMin = 2.18981766700745\n",
    "        ValueMax = 20655.40039\n",
    "   elif x == 2:\n",
    "        Infile = \"CNRecreationClipped.tif\"\n",
    "        OutfileNorm = r\"D:\\Data\\Dropbox\\Lactuca\\Temp\\CN_PhotosNormalised.tif\"\n",
    "        OutfileZeros = r\"D:\\Data\\Dropbox\\Lactuca\\Temp\\CN_PhotosZeros.tif\"\n",
    "        ValueMin = 0\n",
    "        ValueMax = 1\n",
    "   elif x == 3:\n",
    "        Infile = \"TEEBRecreationClipped.tif\"\n",
    "        OutfileNorm = r\"D:\\Data\\Dropbox\\Lactuca\\Temp\\TEEBRecreationNormalised.tif\"\n",
    "        OutfileZeros = r\"D:\\Data\\Dropbox\\Lactuca\\Temp\\TEEBRecreationZeros.tif\"\n",
    "        ValueMin = 0\n",
    "        ValueMax = 2193\n",
    "   elif x == 4:\n",
    "        Infile = \"NatureAccessUrbanRural.tif\"\n",
    "        OutfileNorm = r\"D:\\Data\\Dropbox\\Lactuca\\Temp\\BeckyAccessNormalised.tif\"\n",
    "        OutfileZeros = r\"D:\\Data\\Dropbox\\Lactuca\\Temp\\BeckyAccessZeros.tif\"\n",
    "        ValueMin = 0\n",
    "        ValueMax = 20100910\n",
    "   else:\n",
    "        print(\"This code stops\")\n",
    "   with arcpy.EnvManager(overwriteOutput=True):\n",
    "        out_raster = arcpy.sa.Minus(Infile, ValueMin); out_raster.save(\"TmpLayer1\")\n",
    "        out_raster = arcpy.sa.Con(\"TmpLayer1\", 0, \" TmpLayer1\", \"VALUE < 0\")\n",
    "        out_raster.save(\"TmpLayer2\")\n",
    "        out_raster = arcpy.sa.Divide(\"TmpLayer2\", ValueMax); out_raster.save(\"TmpLayer3\")\n",
    "        out_raster = arcpy.sa.Con(\"TmpLayer3\", 1, \" TmpLayer3\", \"VALUE > 1\")\n",
    "        out_raster.save(OutfileNorm)\n",
    "        out_raster = arcpy.sa.IsNull(OutfileNorm); out_raster.save(\"TmpLayer4\")   \n",
    "        out_raster = arcpy.sa.Con(\"TmpLayer4\", \"LandExtentasZeros.tif\", OutfileNorm,\"Value = 1\")\n",
    "        out_raster.save(OutfileZeros)"
   ]
  },
  {
   "cell_type": "code",
   "execution_count": 4,
   "metadata": {},
   "outputs": [],
   "source": [
    "# Extract models and ensembles\n",
    "with arcpy.EnvManager(cellSize= 0.001):\n",
    "    arcpy.sa.ZonalStatisticsAsTable(\"Gaul_2_Countries\", \"OBJECTID\", \"InVestRecreationNormalised.tif\", \"ZonalSt_InVestRecreation\", \"DATA\", \"ALL\", \"CURRENT_SLICE\", [90], \"AUTO_DETECT\")\n",
    "    arcpy.sa.ZonalStatisticsAsTable(\"Gaul_2_Countries\", \"OBJECTID\", \"ArieswithGDPHeadNormalised.tif\", \"ZonalSt_AriesRecreation\", \"DATA\", \"ALL\", \"CURRENT_SLICE\", [90], \"AUTO_DETECT\")\n",
    "    arcpy.sa.ZonalStatisticsAsTable(\"Gaul_2_Countries\", \"OBJECTID\", \"CNRecreationNormalised.tif\", \"ZonalSt_CNRecreation\", \"DATA\", \"ALL\", \"CURRENT_SLICE\", [90], \"AUTO_DETECT\")\n",
    "    arcpy.sa.ZonalStatisticsAsTable(\"Gaul_2_Countries\", \"OBJECTID\", \"TEEBRecreationNormalised.tif\", \"ZonalSt_TEEBRecreation\", \"DATA\", \"ALL\", \"CURRENT_SLICE\", [90], \"AUTO_DETECT\")\n",
    "    arcpy.sa.ZonalStatisticsAsTable(\"Gaul_2_Countries\", \"OBJECTID\", \"BeckyAcessNormalised.tif\", \"ZonalSt_BeckyRecreation\", \"DATA\", \"ALL\", \"CURRENT_SLICE\", [90], \"AUTO_DETECT\")\n",
    "    arcpy.sa.ZonalStatisticsAsTable(\"Gaul_2_Countries\", \"OBJECTID\", \"Mean_RecreationEnsemble.tif\", \"ZonalSt_MeanRecreation\", \"DATA\", \"ALL\", \"CURRENT_SLICE\", [90], \"AUTO_DETECT\")\n",
    "    arcpy.sa.ZonalStatisticsAsTable(\"Gaul_2_Countries\", \"OBJECTID\", \"Median_RecreationEnsemble.tif\", \"ZonalSt_MedianRecreation\", \"DATA\", \"ALL\", \"CURRENT_SLICE\", [90], \"AUTO_DETECT\")\n",
    "    arcpy.sa.ZonalStatisticsAsTable(\"Gaul_2_Countries\", \"OBJECTID\", \"PCA_RecreationEnsemble.tif\", \"ZonalSt_PCARecreation\", \"DATA\", \"ALL\", \"CURRENT_SLICE\", [90], \"AUTO_DETECT\")\n",
    "    arcpy.sa.ZonalStatisticsAsTable(\"Gaul_2_Countries\", \"OBJECTID\", \"CorCoef_RecreationEnsemble.tif\", \"ZonalSt_CorCoefRecreation\", \"DATA\", \"ALL\", \"CURRENT_SLICE\", [90], \"AUTO_DETECT\")\n",
    "    arcpy.sa.ZonalStatisticsAsTable(\"Gaul_2_Countries\", \"OBJECTID\", \"R2Median_RecreationEnsemble.tif\", \"ZonalSt_R2MedianRecreation\", \"DATA\", \"ALL\", \"CURRENT_SLICE\", [90], \"AUTO_DETECT\")\n",
    "    arcpy.sa.ZonalStatisticsAsTable(\"Gaul_2_Countries\", \"OBJECTID\", \"Leave1Out_RecreationEnsemble.tif\", \"ZonalSt_LeaveOneOutRecreation\", \"DATA\", \"ALL\", \"CURRENT_SLICE\", [90], \"AUTO_DETECT\")\n",
    "    arcpy.sa.ZonalStatisticsAsTable(\"Gaul_2_Countries\", \"OBJECTID\", \"Grid_RecreationEnsemble.tif\", \"ZonalSt_GridRecreation\", \"DATA\", \"ALL\", \"CURRENT_SLICE\", [90], \"AUTO_DETECT\")\n",
    "    arcpy.sa.ZonalStatisticsAsTable(\"Gaul_2_Countries\", \"OBJECTID\", \"SEMamongModelsRecreation.tif\", \"ZonalSt_SEMRecreation\", \"DATA\", \"ALL\", \"CURRENT_SLICE\", [90], \"AUTO_DETECT\")"
   ]
  },
  {
   "cell_type": "code",
   "execution_count": 1,
   "metadata": {},
   "outputs": [],
   "source": [
    "# Cross reference extractions\n",
    "with arcpy.EnvManager(cellSize= 0.001):\n",
    "       arcpy.sa.ZonalStatisticsAsTable(\"Gaul_2_Countries\", \"OBJECTID\", \"R2Median_RetentionEnsemble.tif\", \"Zonal1\", \"DATA\", \"ALL\", \"CURRENT_SLICE\", [90], \"AUTO_DETECT\")\n",
    "       arcpy.conversion.TableToExcel(\"Zonal1 \", r\"D:\\Data\\Dropbox\\Lactuca\\Temp\\Countries_Retention_PCAEns.xlsx\", \"NAME\", \"CODE\")\n",
    "       arcpy.management.Delete(\"Zonal1\")\n",
    "       arcpy.sa.ZonalStatisticsAsTable(\"Gaul_2_Countries\", \"OBJECTID\", \"CorCoef_RetentionEnsemble.tif\", \"Zonal1\", \"DATA\", \"ALL\", \"CURRENT_SLICE\", [90], \"AUTO_DETECT\")\n",
    "       arcpy.conversion.TableToExcel(\"Zonal1 \", r\"D:\\Data\\Dropbox\\Lactuca\\Temp\\Countries_Retention_CorCoefEns.xlsx\", \"NAME\", \"CODE\")\n",
    "       arcpy.management.Delete(\"Zonal1\")\n",
    "       arcpy.sa.ZonalStatisticsAsTable(\"Gaul_2_Countries\", \"OBJECTID\", \"Mean_RetentionEnsemble.tif\", \"Zonal1\", \"DATA\", \"ALL\", \"CURRENT_SLICE\", [90], \"AUTO_DETECT\")\n",
    "       arcpy.conversion.TableToExcel(\"Zonal1 \", r\"D:\\Data\\Dropbox\\Lactuca\\Temp\\Countries_Retention_MeanEns.xlsx\", \"NAME\", \"CODE\")\n",
    "       arcpy.management.Delete(\"Zonal1\")\n",
    "       arcpy.sa.ZonalStatisticsAsTable(\"Gaul_2_Countries\", \"OBJECTID\", \"MedianCarbon.tif\", \"Zonal1\", \"DATA\", \"ALL\", \"CURRENT_SLICE\", [90], \"AUTO_DETECT\")\n",
    "       arcpy.conversion.TableToExcel(\"Zonal1 \", r\"D:\\Data\\Dropbox\\Lactuca\\TempCarbon\\Countries_Carbon_MedianEns.xlsx\", \"NAME\", \"CODE\")\n",
    "       arcpy.management.Delete(\"Zonal1\")"
   ]
  }
 ],
 "metadata": {
  "kernelspec": {
   "display_name": "ArcGISPro",
   "language": "Python",
   "name": "python3"
  },
  "language_info": {
   "file_extension": ".py",
   "name": "python",
   "version": "3"
  }
 },
 "nbformat": 4,
 "nbformat_minor": 2
}
